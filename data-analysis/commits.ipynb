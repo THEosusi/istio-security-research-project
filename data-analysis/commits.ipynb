{
 "cells": [
  {
   "cell_type": "code",
   "execution_count": null,
   "id": "adaff76f",
   "metadata": {},
   "outputs": [],
   "source": [
    "import dask.dataframe as dd\n",
    "import pandas as pd\n",
    "\n",
    "final_dirs = {\n",
    "    \"v1\": \"../data/final/v1\",\n",
    "    \"v1beta1\": \"../data/final/v1beta1\",\n",
    "    \"v1alpha1\": \"../data/final/v1alpha1\",\n",
    "}\n",
    "\n",
    "start_date = pd.Timestamp(\"2024-08-01\", tz='UTC')\n",
    "end_date   = pd.Timestamp(\"2025-07-31\", tz='UTC')\n",
    "\n",
    "\n",
    "all_repos_v1beta1 = dd.read_parquet(final_dirs['v1beta1'])['repository_full_name'].drop_duplicates().compute()\n",
    "\n",
    "for version, path in final_dirs.items():\n",
    "    print(f\"\\n=== Processing {version} ===\")\n",
    "    \n",
    "    ddf = dd.read_parquet(path)\n",
    "    ddf['author_date'] = dd.to_datetime(ddf['author_date'], utc=True)\n",
    "    \n",
    "\n",
    "    ddf_filtered = ddf[(ddf['author_date'] >= start_date) & (ddf['author_date'] <= end_date)]\n",
    "    \n",
    "\n",
    "    repo_counts = ddf_filtered.groupby('repository_full_name')['author_date'].count().compute()\n",
    "    \n",
    "\n",
    "    if version == \"v1\":\n",
    "        repo_counts = repo_counts[~repo_counts.index.isin(all_repos_v1beta1)]\n",
    "    \n",
    "\n",
    "    all_repos = ddf['repository_full_name'].drop_duplicates().compute()\n",
    "    if version == \"v1\":\n",
    "        all_repos = all_repos[~all_repos.isin(all_repos_v1beta1)]\n",
    "    \n",
    "    repo_counts_per_month = repo_counts / 12\n",
    "    \n",
    "    repos_without_pr = all_repos[~all_repos.isin(repo_counts.index)]\n",
    "    zero_df = pd.Series(0, index=repos_without_pr)\n",
    "    \n",
    "    all_counts = pd.concat([repo_counts_per_month, zero_df])\n",
    "    results = all_counts.value_counts().sort_index()\n",
    "    \n",
    "    print(\"Repository monthly PR average histogram:\")\n",
    "    print(results)\n",
    "    print(\"\\nTotal repositories:\", len(all_counts))\n"
   ]
  },
  {
   "cell_type": "code",
   "execution_count": null,
   "id": "930aa1f1",
   "metadata": {},
   "outputs": [],
   "source": [
    "def clean_report(input_file, output_file):\n",
    "    with open(input_file, \"r\") as f:\n",
    "        lines = f.readlines()\n",
    "\n",
    "    cleaned_lines = []\n",
    "    for line in lines:\n",
    "        line = line.rstrip(\"\\n\")\n",
    "        if line.startswith(\"[WARN]\"):\n",
    "            continue\n",
    "        if line.endswith(\"(Manual)\"):\n",
    "            continue\n",
    "        cleaned_lines.append(line)\n",
    "\n",
    "    with open(output_file, \"w\") as f:\n",
    "        f.write(\"\\n\".join(cleaned_lines))\n",
    "\n",
    "# Example usage:\n",
    "# Place your original text in \"report.txt\" and run this script\n",
    "# The cleaned result will be written to \"cleaned_report.txt\"\n",
    "clean_report(\"report.txt\", \"cleaned_report.txt\")\n"
   ]
  },
  {
   "cell_type": "code",
   "execution_count": null,
   "id": "fd891690",
   "metadata": {},
   "outputs": [],
   "source": [
    "\n",
    "    # Calculate and print the distribution of average commits per month\n",
    "    distribution = repo_counts_per_month.value_counts().sort_index()\n",
    "    #print(\"Distribution of average commits per month:\")\n",
    "    #print(distribution)\n",
    "\n",
    "    # Automatically bin into 4 quantile groups\n",
    "    grouped = pd.qcut(repo_counts_per_month, q=4, labels=[\"Q1 (lowest)\", \"Q2\", \"Q3\", \"Q4 (highest)\"])\n",
    "    print(grouped.value_counts())\n",
    "\n",
    "    # Optional: plot histogram\n",
    "    import matplotlib.pyplot as plt\n",
    "    plt.figure(figsize=(8,4))\n",
    "    repo_counts_per_month.hist(bins=30)\n",
    "    plt.xlabel(\"Average commits per month (v1beta1)\")\n",
    "    plt.ylabel(\"Number of repositories\")\n",
    "    plt.title(\"Distribution of average commits per month\")\n"
   ]
  },
  {
   "cell_type": "code",
   "execution_count": null,
   "id": "fa64b67f",
   "metadata": {},
   "outputs": [],
   "source": [
    "# Equal-width bins (fallback if qcut fails)\n",
    "grouped_cut = pd.cut(repo_counts_per_month, bins=4)\n",
    "print(\"Bin intervals (equal-width):\", grouped_cut.cat.categories)"
   ]
  },
  {
   "cell_type": "code",
   "execution_count": null,
   "id": "f4d6b0c3",
   "metadata": {},
   "outputs": [],
   "source": [
    "# Custom bins: <1, 1-25, 26-50, >50\n",
    "bins = [0, 1, 11, 30, repo_counts_per_month.max()+1]\n",
    "labels = [\"<1\", \"1-11\", \"11-30\", \">30\"]\n",
    "grouped_custom = pd.cut(repo_counts_per_month, bins=bins, labels=labels, right=False)\n",
    "\n",
    "print(\"Custom commit frequency categories:\")\n",
    "print(grouped_custom.value_counts())"
   ]
  }
 ],
 "metadata": {
  "kernelspec": {
   "display_name": ".venv",
   "language": "python",
   "name": "python3"
  },
  "language_info": {
   "codemirror_mode": {
    "name": "ipython",
    "version": 3
   },
   "file_extension": ".py",
   "mimetype": "text/x-python",
   "name": "python",
   "nbconvert_exporter": "python",
   "pygments_lexer": "ipython3",
   "version": "3.12.3"
  }
 },
 "nbformat": 4,
 "nbformat_minor": 5
}
