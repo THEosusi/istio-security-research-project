{
 "cells": [
  {
   "cell_type": "code",
   "execution_count": null,
   "id": "adaff76f",
   "metadata": {},
   "outputs": [],
   "source": [
    "import dask.dataframe as dd\n",
    "import pandas as pd\n",
    "\n",
    "final_dirs = {\n",
    "    \"v1\": \"../data/final/v1\",\n",
    "    \"v1beta1\": \"../data/final/v1beta1\",\n",
    "    \"v1alpha1\": \"../data/final/v1alpha1\",\n",
    "}\n",
    "\n",
    "start_date = pd.Timestamp(\"2024-08-01\", tz='UTC')\n",
    "end_date   = pd.Timestamp(\"2025-07-31\", tz='UTC')\n",
    "\n",
    "for version, path in final_dirs.items():\n",
    "    print(f\"\\n=== Processing {version} ===\")\n",
    "    \n",
    "\n",
    "    ddf = dd.read_parquet(path)\n",
    "    \n",
    "\n",
    "    ddf['author_date'] = dd.to_datetime(ddf['author_date'], utc=True)\n",
    "    \n",
    "\n",
    "    ddf_filtered = ddf[(ddf['author_date'] >= start_date) & (ddf['author_date'] <= end_date)]\n",
    "    \n",
    "\n",
    "    repo_counts = ddf_filtered.groupby('repository_full_name')['author_date'].count().compute()\n",
    "\n",
    "\n",
    "    all_repos = ddf['repository_full_name'].drop_duplicates().compute()\n",
    "    \n",
    "\n",
    "    repos_without_pr = all_repos[~all_repos.isin(repo_counts.index)]\n",
    "    \n",
    "    repo_counts_per_month = repo_counts / 12\n",
    "    \n",
    "    zero_df = pd.Series(0, index=repos_without_pr)\n",
    "    \n",
    "    all_counts = pd.concat([repo_counts_per_month, zero_df])\n",
    "    \n",
    "    results = all_counts.value_counts().sort_index()\n",
    "    \n",
    "    print(\"Repository monthly PR average results:\")\n",
    "    print(results)\n",
    "    print(\"\\nTotal repositories:\", len(all_counts))"
   ]
  }
 ],
 "metadata": {
  "kernelspec": {
   "display_name": "Python 3",
   "language": "python",
   "name": "python3"
  },
  "language_info": {
   "codemirror_mode": {
    "name": "ipython",
    "version": 3
   },
   "file_extension": ".py",
   "mimetype": "text/x-python",
   "name": "python",
   "nbconvert_exporter": "python",
   "pygments_lexer": "ipython3",
   "version": "3.10.12"
  }
 },
 "nbformat": 4,
 "nbformat_minor": 5
}
