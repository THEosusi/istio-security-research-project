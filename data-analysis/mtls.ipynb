{
 "cells": [
  {
   "cell_type": "code",
   "execution_count": null,
   "id": "24179db4",
   "metadata": {},
   "outputs": [],
   "source": [
    "import pandas as pd\n",
    "file_path = \"../data/repositoryinfo/mtls_strict_v1_repos.parquet\"\n",
    "\n",
    "df_strict_v1 = pd.read_parquet(file_path)\n",
    "df_strict_v1\n",
    "\n",
    "file_path = \"../data/repositoryinfo/mtls_permissive_v1_repos.parquet\"\n",
    "\n",
    "df_permissive_v1 = pd.read_parquet(file_path)\n",
    "df_permissive_v1\n",
    "\n",
    "file_path = \"../data/repositoryinfo/mtls_disable_v1_repos.parquet\"\n",
    "\n",
    "df_disable_v1 = pd.read_parquet(file_path)\n",
    "df_disable_v1\n",
    "\n",
    "\n",
    "file_path = \"../data/repositoryinfo/mtls_strict_v1beta1_repos.parquet\"\n",
    "\n",
    "df_strict_v1beta1 = pd.read_parquet(file_path)\n",
    "df_strict_v1beta1\n",
    "\n",
    "file_path = \"../data/repositoryinfo/mtls_permissive_v1beta1_repos.parquet\"\n",
    "\n",
    "df_permissive_v1beta1 = pd.read_parquet(file_path)\n",
    "df_permissive_v1beta1\n",
    "\n",
    "file_path = \"../data/repositoryinfo/mtls_disable_v1beta1_repos.parquet\"\n",
    "\n",
    "df_disable_v1beta1 = pd.read_parquet(file_path)\n",
    "df_disable_v1beta1\n",
    "\n",
    "\n",
    "file_path = \"../data/repositoryinfo/mtls_strict_v1alpha1_repos.parquet\"\n",
    "\n",
    "df_strict_v1alpha1 = pd.read_parquet(file_path)\n",
    "df_strict_v1alpha1\n",
    "\n",
    "file_path = \"../data/repositoryinfo/mtls_permissive_v1alpha1_repos.parquet\"\n",
    "\n",
    "df_permissive_v1alpha1 = pd.read_parquet(file_path)\n",
    "df_permissive_v1alpha1"
   ]
  },
  {
   "cell_type": "code",
   "execution_count": null,
   "id": "20b8b46d",
   "metadata": {},
   "outputs": [],
   "source": [
    "df_all = pd.concat([df_strict_v1, df_permissive_v1, df_disable_v1, df_strict_v1beta1, df_permissive_v1beta1, df_disable_v1beta1, df_strict_v1alpha1,df_permissive_v1alpha1], ignore_index=True)\n",
    "df_v1=pd.concat([df_strict_v1, df_permissive_v1, df_disable_v1], ignore_index=True)\n",
    "df_v1beta1=pd.concat([df_strict_v1beta1, df_permissive_v1beta1, df_disable_v1beta1], ignore_index=True)\n",
    "df_v1alpha1=pd.concat([df_strict_v1alpha1,df_permissive_v1alpha1], ignore_index=True)\n",
    "df_strict=pd.concat([df_strict_v1, df_strict_v1beta1, df_strict_v1alpha1], ignore_index=True)\n",
    "df_permissive=pd.concat([df_permissive_v1, df_permissive_v1beta1, df_permissive_v1alpha1], ignore_index=True)\n",
    "df_disable=pd.concat([df_disable_v1, df_disable_v1beta1], ignore_index=True)\n",
    "\n",
    "\n",
    "df_all_unique = df_all.drop_duplicates(subset=\"full_name\")\n",
    "df_v1_unique = df_v1.drop_duplicates(subset=\"full_name\")\n",
    "df_v1beta1_unique = df_v1beta1.drop_duplicates(subset=\"full_name\")\n",
    "df_v1alpha1_unique = df_v1alpha1.drop_duplicates(subset=\"full_name\")\n",
    "df_strict_unique = df_strict.drop_duplicates(subset=\"full_name\")\n",
    "df_permissive_unique = df_permissive.drop_duplicates(subset=\"full_name\")\n",
    "df_disable_unique = df_disable.drop_duplicates(subset=\"full_name\")\n",
    "\n",
    "print(\"All:\", len(df_all_unique))\n",
    "print(\"v1:\", len(df_v1_unique)-len(df_v1beta1_unique))\n",
    "print(\"v1beta1:\", len(df_v1beta1_unique))\n",
    "print(\"v1alpha1:\", len(df_v1alpha1_unique))\n",
    "print(\"Strict:\", len(df_strict_unique))\n",
    "print(\"Permissive:\", len(df_permissive_unique))\n",
    "print(\"Disable:\", len(df_disable_unique))\n"
   ]
  },
  {
   "cell_type": "code",
   "execution_count": null,
   "id": "45b3cc4e",
   "metadata": {},
   "outputs": [],
   "source": [
    "df_all_star = df_all_unique[df_all_unique[\"stargazers_count\"] >= 10]\n",
    "df_v1_star = df_v1_unique[df_v1_unique[\"stargazers_count\"] >= 10]\n",
    "df_v1beta1_star = df_v1beta1_unique[df_v1beta1_unique[\"stargazers_count\"] >= 10]\n",
    "df_v1alpha1_star = df_v1alpha1_unique[df_v1alpha1_unique[\"stargazers_count\"] >= 10]\n",
    "df_strict_star = df_strict_unique[df_strict_unique[\"stargazers_count\"] >= 10]\n",
    "df_permissive_star = df_permissive_unique[df_permissive_unique[\"stargazers_count\"] >= 10]\n",
    "df_disable_star = df_disable_unique[df_disable_unique[\"stargazers_count\"] >= 10]\n",
    "\n",
    "print(\"All:\", len(df_all_star))\n",
    "print(\"v1:\", len(df_v1_star)-len(df_v1beta1_star))\n",
    "print(\"v1beta1:\", len(df_v1beta1_star))\n",
    "print(\"v1alpha1:\", len(df_v1alpha1_star))\n",
    "print(\"Strict:\", len(df_strict_star))\n",
    "print(\"Permissive:\", len(df_permissive_star))\n",
    "print(\"Disable:\", len(df_disable_star))"
   ]
  },
  {
   "cell_type": "markdown",
   "id": "626dc739",
   "metadata": {},
   "source": [
    "# Filter repositories with 10 or more stars\n",
    "df_filtered = df[df[\"stargazers_count\"] >= 10]\n",
    "df_filtered\n"
   ]
  },
  {
   "cell_type": "markdown",
   "id": "3a1fa9e7",
   "metadata": {},
   "source": [
    "Similar to the plot in the seminar paper\n",
    "# TODO\n",
    "- Get number of repositories per MTLS method\n",
    "- Also analyse if there are differences per version (v1, v1alfa, ...)"
   ]
  }
 ],
 "metadata": {
  "kernelspec": {
   "display_name": "Python 3",
   "language": "python",
   "name": "python3"
  },
  "language_info": {
   "codemirror_mode": {
    "name": "ipython",
    "version": 3
   },
   "file_extension": ".py",
   "mimetype": "text/x-python",
   "name": "python",
   "nbconvert_exporter": "python",
   "pygments_lexer": "ipython3",
   "version": "3.10.12"
  }
 },
 "nbformat": 4,
 "nbformat_minor": 5
}
