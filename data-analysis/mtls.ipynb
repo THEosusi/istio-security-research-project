{
 "cells": [
  {
   "cell_type": "code",
   "execution_count": null,
   "id": "24179db4",
   "metadata": {},
   "outputs": [],
   "source": [
    "import pandas as pd\n",
    "file_path = \"../data/repositoryinfo/mtls_strict_v1_repos.parquet\"\n",
    "\n",
    "df_strict_v1 = pd.read_parquet(file_path)\n",
    "df_strict_v1\n",
    "\n",
    "file_path = \"../data/repositoryinfo/mtls_permissive_v1_repos.parquet\"\n",
    "\n",
    "df_permissive_v1 = pd.read_parquet(file_path)\n",
    "df_permissive_v1\n",
    "\n",
    "file_path = \"../data/repositoryinfo/mtls_disable_v1_repos.parquet\"\n",
    "\n",
    "df_disable_v1 = pd.read_parquet(file_path)\n",
    "df_disable_v1\n"
   ]
  },
  {
   "cell_type": "code",
   "execution_count": null,
   "id": "149586fe",
   "metadata": {},
   "outputs": [],
   "source": [
    "# Filter repositories with 10 or more stars\n",
    "df_filtered = df[df[\"stargazers_count\"] >= 10]\n",
    "df_filtered"
   ]
  },
  {
   "cell_type": "markdown",
   "id": "3a1fa9e7",
   "metadata": {},
   "source": [
    "Similar to the plot in the seminar paper\n",
    "# TODO\n",
    "- Get number of repositories per MTLS method\n",
    "- Also analyse if there are differences per version (v1, v1alfa, ...)"
   ]
  }
 ],
 "metadata": {
  "kernelspec": {
   "display_name": ".venv",
   "language": "python",
   "name": "python3"
  },
  "language_info": {
   "codemirror_mode": {
    "name": "ipython",
    "version": 3
   },
   "file_extension": ".py",
   "mimetype": "text/x-python",
   "name": "python",
   "nbconvert_exporter": "python",
   "pygments_lexer": "ipython3",
   "version": "3.12.3"
  }
 },
 "nbformat": 4,
 "nbformat_minor": 5
}
