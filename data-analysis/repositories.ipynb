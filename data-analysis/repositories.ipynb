{
 "cells": [
  {
   "cell_type": "code",
   "execution_count": null,
   "id": "6376d107",
   "metadata": {},
   "outputs": [],
   "source": [
    "!pip install pyarrow"
   ]
  },
  {
   "cell_type": "code",
   "execution_count": null,
   "id": "ebdc75d4",
   "metadata": {},
   "outputs": [],
   "source": [
    "import pandas as pd\n",
    "\n",
    "\n",
    "file_path = \"../data/repositoryinfo/all_all_repos.parquet\"\n",
    "\n",
    "df = pd.read_parquet(file_path)\n",
    "\n",
    "total_count = len(df)\n",
    "\n",
    "first_rows = df.head(2)\n",
    "\n",
    "print(f\"Total items: {total_count}\")\n",
    "print(\"\\nFirst 1-2 items:\")\n",
    "print(first_rows)"
   ]
  },
  {
   "cell_type": "code",
   "execution_count": null,
   "id": "7ec2c795",
   "metadata": {},
   "outputs": [],
   "source": [
    "df.columns"
   ]
  }
 ],
 "metadata": {
  "kernelspec": {
   "display_name": ".venv",
   "language": "python",
   "name": "python3"
  },
  "language_info": {
   "codemirror_mode": {
    "name": "ipython",
    "version": 3
   },
   "file_extension": ".py",
   "mimetype": "text/x-python",
   "name": "python",
   "nbconvert_exporter": "python",
   "pygments_lexer": "ipython3",
   "version": "3.12.3"
  }
 },
 "nbformat": 4,
 "nbformat_minor": 5
}
