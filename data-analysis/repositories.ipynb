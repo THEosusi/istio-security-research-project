{
 "cells": [
  {
   "cell_type": "code",
   "execution_count": null,
   "id": "ebdc75d4",
   "metadata": {},
   "outputs": [],
   "source": [
    "import pandas as pd\n",
    "file_path = \"../data/repositoryinfo/all_all_repos.parquet\"\n",
    "\n",
    "df = pd.read_parquet(file_path)\n"
   ]
  },
  {
   "cell_type": "code",
   "execution_count": null,
   "id": "7eb90f39",
   "metadata": {},
   "outputs": [],
   "source": [
    "# Create a DataFrame with full_name, stargazers_count, and commits_url\n",
    "df_selected = df[[\"full_name\", \"stargazers_count\", \"commits_url\"]]\n",
    "df_selected.head()"
   ]
  },
  {
   "cell_type": "code",
   "execution_count": null,
   "id": "46e2ea3e",
   "metadata": {},
   "outputs": [],
   "source": [
    "#TODO for each repository, get list of commits\n"
   ]
  },
  {
   "cell_type": "code",
   "execution_count": null,
   "id": "9ee30cbb",
   "metadata": {},
   "outputs": [],
   "source": [
    "# Example: GET request to a URL expecting JSON response\n",
    "import requests\n",
    "\n",
    "#url = df.head(1)[\"commits_url\"][0]  # Example URL from your dataframe\n",
    "url = 'https://api.github.com/repos/00RohitRoshan/Devops/commits'\n",
    "response = requests.get(url)\n",
    "print(f\"Status code: {response.status_code}\")\n",
    "try:\n",
    "    data = response.json()\n",
    "    print(f\"JSON response (truncated): {str(data)[:200]}\")\n",
    "except Exception as e:\n",
    "    print(f\"Failed to parse JSON: {e}\")"
   ]
  },
  {
   "cell_type": "code",
   "execution_count": null,
   "id": "7b7036e7",
   "metadata": {},
   "outputs": [],
   "source": [
    "# Get for all commits\n",
    "last_commit_date = data[0][\"commit\"][\"author\"][\"date\"]\n",
    "commit_date = []\n",
    "for commit in data:\n",
    "    commit_date.append(commit[\"commit\"][\"author\"][\"date\"])\n",
    "last_commit_date"
   ]
  },
  {
   "cell_type": "code",
   "execution_count": null,
   "id": "0bcd07b5",
   "metadata": {},
   "outputs": [],
   "source": [
    "from datetime import datetime, timedelta\n",
    "\n",
    "# commit_date should be a list of ISO date strings\n",
    "commit_dates_series = pd.to_datetime(pd.Series(commit_date), utc=True)\n",
    "\n",
    "# Filter to last 12 months (ensure tz-aware comparison)\n",
    "from datetime import datetime, timedelta, timezone\n",
    "one_year_ago = pd.Timestamp(datetime.now(timezone.utc) - timedelta(days=365))\n",
    "recent_commits = commit_dates_series[commit_dates_series >= one_year_ago]\n",
    "\n",
    "# Count commits per month\n",
    "monthly_counts = recent_commits.dt.to_period('M').value_counts().sort_index()\n",
    "\n",
    "# Calculate average\n",
    "if len(monthly_counts) > 0:\n",
    "    avg_commits_per_month = monthly_counts.mean()\n",
    "else:\n",
    "    avg_commits_per_month = 0\n",
    "\n",
    "print(f\"Average commits per month (last year): {avg_commits_per_month:.2f}\")"
   ]
  },
  {
   "cell_type": "code",
   "execution_count": null,
   "id": "49a6246f",
   "metadata": {},
   "outputs": [],
   "source": []
  },
  {
   "cell_type": "markdown",
   "id": "da34b4c6",
   "metadata": {},
   "source": [
    "# Info\n",
    "- stars are stored in -> stargazers_count\n",
    "\n",
    "## TODO\n",
    "- for each repository, get list of commits.\n",
    "- then obtain commit - autho< - date\n",
    "- last commit date\n",
    "- calculate commit frequency"
   ]
  }
 ],
 "metadata": {
  "kernelspec": {
   "display_name": ".venv",
   "language": "python",
   "name": "python3"
  },
  "language_info": {
   "codemirror_mode": {
    "name": "ipython",
    "version": 3
   },
   "file_extension": ".py",
   "mimetype": "text/x-python",
   "name": "python",
   "nbconvert_exporter": "python",
   "pygments_lexer": "ipython3",
   "version": "3.12.3"
  }
 },
 "nbformat": 4,
 "nbformat_minor": 5
}
