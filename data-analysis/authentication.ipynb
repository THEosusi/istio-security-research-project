{
 "cells": [
  {
   "cell_type": "code",
   "execution_count": null,
   "id": "925f544f",
   "metadata": {},
   "outputs": [],
   "source": [
    "import pandas as pd\n",
    "file_path = \"../data/repositoryinfo/peer_auth_v1_repos.parquet\"\n",
    "\n",
    "df_peer_auth_v1 = pd.read_parquet(file_path)\n",
    "df_peer_auth_v1 \n",
    "\n",
    "file_path = \"../data/repositoryinfo/req_auth_v1_repos.parquet\"\n",
    "df_req_auth_v1 = pd.read_parquet(file_path)\n",
    "df_req_auth_v1\n",
    "\n",
    "file_path = \"../data/repositoryinfo/peer_auth_v1beta1_repos.parquet\"\n",
    "df_peer_auth_v1beta1 = pd.read_parquet(file_path)\n",
    "df_peer_auth_v1beta1\n",
    "\n",
    "file_path = \"../data/repositoryinfo/req_auth_v1beta1_repos.parquet\"\n",
    "df_req_auth_v1beta1 = pd.read_parquet(file_path)\n",
    "df_req_auth_v1beta1\n",
    "\n",
    "file_path = \"../data/repositoryinfo/peer_auth_v1alpha1_repos.parquet\"\n",
    "df_peer_auth_v1alpha1 = pd.read_parquet(file_path)\n",
    "df_peer_auth_v1alpha1\n",
    "\n",
    "file_path = \"../data/repositoryinfo/req_auth_v1alpha1_repos.parquet\"\n",
    "df_req_auth_v1alpha1 = pd.read_parquet(file_path)\n",
    "df_req_auth_v1alpha1\n",
    "\n"
   ]
  },
  {
   "cell_type": "code",
   "execution_count": null,
   "id": "88f8a139",
   "metadata": {},
   "outputs": [],
   "source": [
    "df_all = pd.concat([df_peer_auth_v1,df_req_auth_v1,df_peer_auth_v1beta1,df_req_auth_v1beta1,df_peer_auth_v1alpha1,df_req_auth_v1alpha1 ], ignore_index=True)\n",
    "df_req=pd.concat([df_req_auth_v1,df_req_auth_v1beta1,df_req_auth_v1alpha1 ], ignore_index=True)\n",
    "df_peer=pd.concat([df_peer_auth_v1,df_peer_auth_v1beta1,df_peer_auth_v1alpha1 ], ignore_index=True)\n",
    "df_v1=pd.concat([df_peer_auth_v1,df_req_auth_v1 ], ignore_index=True)\n",
    "df_v1beta1=pd.concat([df_peer_auth_v1beta1,df_req_auth_v1beta1 ], ignore_index=True)\n",
    "df_v1alpha1=pd.concat([df_peer_auth_v1alpha1,df_req_auth_v1alpha1 ], ignore_index=True)\n",
    "\n",
    "df_all_unique = df_all.drop_duplicates(subset=\"full_name\")\n",
    "df_req_auth_unique = df_req.drop_duplicates(subset=\"full_name\")\n",
    "df_peer_auth_unique = df_peer.drop_duplicates(subset=\"full_name\")\n",
    "df_v1_unique = df_v1.drop_duplicates(subset=\"full_name\")\n",
    "df_v1beta1_unique = df_v1beta1.drop_duplicates(subset=\"full_name\")\n",
    "df_v1alpha1_unique = df_v1alpha1.drop_duplicates(subset=\"full_name\")\n",
    "print(\"All:\", len(df_all_unique))\n",
    "print(\"PeerAuthentication:\", len(df_peer_auth_unique))\n",
    "print(\"RequestAuthentication:\", len(df_req_auth_unique))\n",
    "print(\"v1:\", len(df_v1_unique)-len(df_v1beta1_unique))\n",
    "print(\"v1beta1:\", len(df_v1beta1_unique))\n",
    "print(\"v1alpha1:\", len(df_v1alpha1_unique))"
   ]
  }
 ],
 "metadata": {
  "kernelspec": {
   "display_name": "Python 3",
   "language": "python",
   "name": "python3"
  },
  "language_info": {
   "codemirror_mode": {
    "name": "ipython",
    "version": 3
   },
   "file_extension": ".py",
   "mimetype": "text/x-python",
   "name": "python",
   "nbconvert_exporter": "python",
   "pygments_lexer": "ipython3",
   "version": "3.10.12"
  }
 },
 "nbformat": 4,
 "nbformat_minor": 5
}
